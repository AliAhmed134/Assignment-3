{
 "cells": [
  {
   "cell_type": "markdown",
   "metadata": {},
   "source": [
    "Program 1"
   ]
  },
  {
   "cell_type": "code",
   "execution_count": 1,
   "metadata": {},
   "outputs": [
    {
     "name": "stdout",
     "output_type": "stream",
     "text": [
      "Twinkle,twinkle little star,\n",
      "\t\thow i wonder what you are \n",
      "\t\t\t\tup above the world so high\n",
      "\t\t\t\tlike diamond in the sky\n",
      "Twinkle,twinkle little star,\n",
      "\t\thow i wonder what you are \n"
     ]
    }
   ],
   "source": [
    "print(\"Twinkle,twinkle little star,\\n\\t\\thow i wonder what you are \\n\\t\\t\\t\\tup above the world so high\\n\\t\\t\\t\\t\"\n",
    "      \"like diamond in the sky\\nTwinkle,twinkle little star,\\n\\t\\thow i wonder what you are \")"
   ]
  },
  {
   "cell_type": "markdown",
   "metadata": {},
   "source": [
    "Program 2"
   ]
  },
  {
   "cell_type": "code",
   "execution_count": 2,
   "metadata": {},
   "outputs": [
    {
     "name": "stdout",
     "output_type": "stream",
     "text": [
      "3.8.3 (default, Jul  2 2020, 17:30:36) [MSC v.1916 64 bit (AMD64)]\n"
     ]
    }
   ],
   "source": [
    "import sys\n",
    "print(sys.version)"
   ]
  },
  {
   "cell_type": "markdown",
   "metadata": {},
   "source": [
    "Program 3"
   ]
  },
  {
   "cell_type": "code",
   "execution_count": 3,
   "metadata": {},
   "outputs": [
    {
     "name": "stdout",
     "output_type": "stream",
     "text": [
      "2021-23-24 16:23:53\n",
      "16:23:53\n"
     ]
    }
   ],
   "source": [
    "import datetime\n",
    "date_time=datetime.datetime.now()\n",
    "print(date_time.strftime(\"%Y-%M-%d %H:%M:%S\"))\n",
    "print(date_time.strftime(\"%H:%M:%S\"))"
   ]
  },
  {
   "cell_type": "markdown",
   "metadata": {},
   "source": [
    "Program 4"
   ]
  },
  {
   "cell_type": "code",
   "execution_count": 4,
   "metadata": {},
   "outputs": [
    {
     "name": "stdout",
     "output_type": "stream",
     "text": [
      "Enter a radius Value10\n",
      "314.2\n"
     ]
    }
   ],
   "source": [
    "radius=float(input(\"Enter a radius Value\"))\n",
    "print(3.142*pow(radius,2))"
   ]
  },
  {
   "cell_type": "markdown",
   "metadata": {},
   "source": [
    "Program 5"
   ]
  },
  {
   "cell_type": "code",
   "execution_count": 5,
   "metadata": {},
   "outputs": [
    {
     "name": "stdout",
     "output_type": "stream",
     "text": [
      "Enter a first nameGenghis\n",
      "Enter a sencond nameKhan\n",
      "sihgneG nahK\n"
     ]
    }
   ],
   "source": [
    "first_name=input(\"Enter a first name\")\n",
    "second_name=input(\"Enter a sencond name\")\n",
    "rev1=first_name[::-1]\n",
    "rev2=second_name[::-1]\n",
    "print(rev1,rev2)"
   ]
  },
  {
   "cell_type": "markdown",
   "metadata": {},
   "source": [
    "Program 6"
   ]
  },
  {
   "cell_type": "code",
   "execution_count": 6,
   "metadata": {},
   "outputs": [
    {
     "name": "stdout",
     "output_type": "stream",
     "text": [
      "Enter a first number5\n",
      "Enter a second number4\n",
      "9\n"
     ]
    }
   ],
   "source": [
    "first_number=int(input(\"Enter a first number\"))\n",
    "Second_number=int(input(\"Enter a second number\"))\n",
    "print(first_number+Second_number)"
   ]
  },
  {
   "cell_type": "markdown",
   "metadata": {},
   "source": [
    "Program 7"
   ]
  },
  {
   "cell_type": "code",
   "execution_count": 7,
   "metadata": {},
   "outputs": [
    {
     "name": "stdout",
     "output_type": "stream",
     "text": [
      "Enter a English Marks85\n",
      "Enter a Isl Marks80\n",
      "Enter a Math Marks75\n",
      "Enter a Urdu Marks90\n",
      "Enter a Physics Marks70\n",
      "your percentage is  80\n",
      "your grade is A+\n",
      "Excellent Performance in Exam\n"
     ]
    }
   ],
   "source": [
    "Eng=int(input(\"Enter a English Marks\"))\n",
    "isl=int(input(\"Enter a Isl Marks\"))\n",
    "math=int(input(\"Enter a Math Marks\"))\n",
    "urdu=int(input(\"Enter a Urdu Marks\"))\n",
    "physics=int(input(\"Enter a Physics Marks\"))\n",
    "total_marks=500\n",
    "percentage=(Eng+isl+math+urdu+physics)/total_marks*100\n",
    "percentage=round(percentage)\n",
    "if percentage>=80 and percentage<=100:\n",
    "    print(\"your percentage is \", percentage)\n",
    "    print(\"your grade is A+\")\n",
    "    print(\"Excellent Performance in Exam\")\n",
    "elif percentage>=70 and percentage<=80:\n",
    "    print(\"your percentage is \", percentage)\n",
    "    print(\"your grade is A\")\n",
    "    print(\"Very Good Performance in Exam\")\n",
    "elif percentage>=60 and percentage<=70:\n",
    "    print(\"your percentage is \", percentage)\n",
    "    print(\"your grade is B\")\n",
    "    print(\"Good Performance in Exam\")\n",
    "elif percentage>=50 and percentage<=60:\n",
    "    print(\"your percentage is \", percentage)\n",
    "    print(\"your grade is C\")\n",
    "    print(\"Average Performance in Exam\")\n",
    "elif percentage>=40 and percentage<=50:\n",
    "    print(\"your percentage is \", percentage)\n",
    "    print(\"your grade is D\")\n",
    "    print(\" bellow Performance in Exam\")\n",
    "elif percentage>=30 and percentage<=40:\n",
    "    print(\"your percentage is \", percentage)\n",
    "    print(\"your grade is E\")\n",
    "    print(\"you need more Improvement\")\n",
    "elif percentage>0 and percentage<=30:\n",
    "    print(\"your percentage is \", percentage)\n",
    "    print(\"your grade is F\")\n",
    "    print(\"You Need Hard work Good luck for the next time\")\n",
    "else:\n",
    "    print(\"Please correct the Marks\")\n",
    "    print(\"Marks do not Greater than 300 or Percentage do not bellow 0 or greater than 100\")\n"
   ]
  },
  {
   "cell_type": "markdown",
   "metadata": {},
   "source": [
    "Program 8"
   ]
  },
  {
   "cell_type": "code",
   "execution_count": 8,
   "metadata": {},
   "outputs": [
    {
     "name": "stdout",
     "output_type": "stream",
     "text": [
      "Enter a num4\n",
      "even\n"
     ]
    }
   ],
   "source": [
    "num=int(input(\"Enter a num\"))\n",
    "if num%2==0:\n",
    "    print(\"even\")\n",
    "else:\n",
    "    print(\"odd\")"
   ]
  },
  {
   "cell_type": "markdown",
   "metadata": {},
   "source": [
    "Program 9"
   ]
  },
  {
   "cell_type": "code",
   "execution_count": 9,
   "metadata": {},
   "outputs": [
    {
     "name": "stdout",
     "output_type": "stream",
     "text": [
      "8\n"
     ]
    }
   ],
   "source": [
    "lst=[1,2,3,4,5,65,6,7]\n",
    "print(len(lst))"
   ]
  },
  {
   "cell_type": "markdown",
   "metadata": {},
   "source": [
    "Program 10"
   ]
  },
  {
   "cell_type": "code",
   "execution_count": 10,
   "metadata": {},
   "outputs": [
    {
     "name": "stdout",
     "output_type": "stream",
     "text": [
      "238\n"
     ]
    }
   ],
   "source": [
    "lst=[1,2,32,43,54,95,5,6]\n",
    "print(sum(lst))"
   ]
  },
  {
   "cell_type": "markdown",
   "metadata": {},
   "source": [
    "Program 11"
   ]
  },
  {
   "cell_type": "code",
   "execution_count": 11,
   "metadata": {},
   "outputs": [
    {
     "name": "stdout",
     "output_type": "stream",
     "text": [
      "700\n"
     ]
    }
   ],
   "source": [
    "lst=[1,4,5,47,54,105,633,700]\n",
    "print(max(lst))"
   ]
  },
  {
   "cell_type": "markdown",
   "metadata": {},
   "source": [
    "Program 12"
   ]
  },
  {
   "cell_type": "code",
   "execution_count": 12,
   "metadata": {},
   "outputs": [
    {
     "name": "stdout",
     "output_type": "stream",
     "text": [
      "1\n",
      "1\n",
      "2\n",
      "3\n"
     ]
    }
   ],
   "source": [
    "lst2=[1,1,2,3,5,8,13,21,34,55,89]\n",
    "for i in lst2:\n",
    "    if i<5:\n",
    "        print(i)"
   ]
  }
 ],
 "metadata": {
  "kernelspec": {
   "display_name": "Python 3",
   "language": "python",
   "name": "python3"
  },
  "language_info": {
   "codemirror_mode": {
    "name": "ipython",
    "version": 3
   },
   "file_extension": ".py",
   "mimetype": "text/x-python",
   "name": "python",
   "nbconvert_exporter": "python",
   "pygments_lexer": "ipython3",
   "version": "3.8.3"
  }
 },
 "nbformat": 4,
 "nbformat_minor": 4
}
